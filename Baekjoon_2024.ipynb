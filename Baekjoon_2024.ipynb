{
 "cells": [
  {
   "cell_type": "code",
   "execution_count": 1,
   "metadata": {},
   "outputs": [
    {
     "name": "stdout",
     "output_type": "stream",
     "text": [
      "123\n"
     ]
    }
   ],
   "source": [
    "A = input()\n",
    "print(A)"
   ]
  },
  {
   "cell_type": "code",
   "execution_count": 2,
   "metadata": {},
   "outputs": [
    {
     "name": "stdout",
     "output_type": "stream",
     "text": [
      "123\n"
     ]
    }
   ],
   "source": [
    "B = int(input())\n",
    "\n",
    "print(B)  "
   ]
  },
  {
   "cell_type": "code",
   "execution_count": 8,
   "metadata": {},
   "outputs": [
    {
     "name": "stdout",
     "output_type": "stream",
     "text": [
      "-1 0 0 1 0 7\n"
     ]
    }
   ],
   "source": [
    "# 백준_심화1_킹, 퀸, 룩, 비숍, 나이트, 폰\n",
    "\n",
    "k, q, l, b, n, p = map(int, input().split())\n",
    "\n",
    "k = 1 - k\n",
    "q = 1 - q\n",
    "l = 2 - l\n",
    "b = 2 - b\n",
    "n = 2 - n\n",
    "p = 8 - p\n",
    "\n",
    "print(k, q, l, b, n, p)"
   ]
  },
  {
   "cell_type": "code",
   "execution_count": 29,
   "metadata": {},
   "outputs": [
    {
     "name": "stdout",
     "output_type": "stream",
     "text": [
      "    *\n",
      "   ***\n",
      "  *****\n",
      " *******\n",
      "*********\n",
      " *******\n",
      "  *****\n",
      "   ***\n",
      "    *\n"
     ]
    }
   ],
   "source": [
    "# 백준_심화1_별 찍기 - 7\n",
    "\n",
    "n = int(input())\n",
    "\n",
    "for i in range(1, n, 1):\n",
    "    print(\" \" * (n - i) + \"*\" * (2*i - 1))\n",
    "\n",
    "for j in range(n, 0, -1):\n",
    "    print(\" \" * (n - j) + \"*\" * (2*j - 1))"
   ]
  },
  {
   "cell_type": "code",
   "execution_count": 16,
   "metadata": {},
   "outputs": [
    {
     "name": "stdout",
     "output_type": "stream",
     "text": [
      "1\n",
      "1\n"
     ]
    }
   ],
   "source": [
    "# 백준_심화1_팰린드롬 -> Fail\n",
    "\n",
    "word = input()\n",
    "\n",
    "l = len(word)\n",
    "\n",
    "for i in range(l // 2):\n",
    "    if word[i] != word[l-i-1]:\n",
    "        print(0)\n",
    "        break\n",
    "    else:\n",
    "        print(1)\n"
   ]
  },
  {
   "cell_type": "code",
   "execution_count": 18,
   "metadata": {},
   "outputs": [
    {
     "name": "stdout",
     "output_type": "stream",
     "text": [
      "1\n"
     ]
    }
   ],
   "source": [
    "# 백준_심화1_팰린드롬 (인터넷 답)\n",
    "\n",
    "word = input()\n",
    "\n",
    "if word[::1] == word[::-1]:\n",
    "    print(1)\n",
    "else:\n",
    "    print(0)\n",
    "\n",
    "# Tip. 슬라이싱 연산자 [::1] 는 [시작인덱스:끝인덱스:단계] 를 의미함"
   ]
  },
  {
   "cell_type": "code",
   "execution_count": null,
   "metadata": {},
   "outputs": [],
   "source": []
  }
 ],
 "metadata": {
  "kernelspec": {
   "display_name": "Python 3",
   "language": "python",
   "name": "python3"
  },
  "language_info": {
   "codemirror_mode": {
    "name": "ipython",
    "version": 3
   },
   "file_extension": ".py",
   "mimetype": "text/x-python",
   "name": "python",
   "nbconvert_exporter": "python",
   "pygments_lexer": "ipython3",
   "version": "3.11.2"
  }
 },
 "nbformat": 4,
 "nbformat_minor": 2
}
